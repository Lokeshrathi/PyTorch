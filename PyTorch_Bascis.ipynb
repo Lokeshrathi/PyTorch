{
  "nbformat": 4,
  "nbformat_minor": 0,
  "metadata": {
    "colab": {
      "name": "PyTorch Bascis.ipynb",
      "provenance": [],
      "authorship_tag": "ABX9TyMDbTq1C5ZhFFG7NFtLhw4X",
      "include_colab_link": true
    },
    "kernelspec": {
      "name": "python3",
      "display_name": "Python 3"
    },
    "language_info": {
      "name": "python"
    },
    "accelerator": "GPU",
    "gpuClass": "standard"
  },
  "cells": [
    {
      "cell_type": "markdown",
      "metadata": {
        "id": "view-in-github",
        "colab_type": "text"
      },
      "source": [
        "<a href=\"https://colab.research.google.com/github/Lokeshrathi/PyTorch/blob/main/PyTorch_Bascis.ipynb\" target=\"_parent\"><img src=\"https://colab.research.google.com/assets/colab-badge.svg\" alt=\"Open In Colab\"/></a>"
      ]
    },
    {
      "cell_type": "code",
      "execution_count": 1,
      "metadata": {
        "colab": {
          "base_uri": "https://localhost:8080/"
        },
        "id": "BBtwmKaEUh0X",
        "outputId": "25f22fc3-50d6-40d7-c945-219a0c42ac94"
      },
      "outputs": [
        {
          "output_type": "stream",
          "name": "stdout",
          "text": [
            "Looking in indexes: https://pypi.org/simple, https://us-python.pkg.dev/colab-wheels/public/simple/\n",
            "Requirement already satisfied: torch in /usr/local/lib/python3.7/dist-packages (1.12.1+cu113)\n",
            "Requirement already satisfied: typing-extensions in /usr/local/lib/python3.7/dist-packages (from torch) (4.1.1)\n"
          ]
        }
      ],
      "source": [
        "!pip install torch"
      ]
    },
    {
      "cell_type": "markdown",
      "source": [
        "## Create a tensor:\n",
        "\n",
        "### Tensor is a data structure to save data for PyTorch!"
      ],
      "metadata": {
        "id": "oAgWImdNWtRT"
      }
    },
    {
      "cell_type": "code",
      "source": [
        "import torch\n",
        "import numpy as np"
      ],
      "metadata": {
        "id": "6lQ7DuygVPYz"
      },
      "execution_count": 2,
      "outputs": []
    },
    {
      "cell_type": "code",
      "source": [
        "array = [[1,2],[4,5],[7,2]]\n",
        "\n",
        "tensor1 = torch.tensor(array)\n",
        "print(tensor1)"
      ],
      "metadata": {
        "colab": {
          "base_uri": "https://localhost:8080/"
        },
        "id": "X0R_vL-MVUeb",
        "outputId": "09105fdd-30f5-4825-957b-7cf1d1960d9e"
      },
      "execution_count": 3,
      "outputs": [
        {
          "output_type": "stream",
          "name": "stdout",
          "text": [
            "tensor([[1, 2],\n",
            "        [4, 5],\n",
            "        [7, 2]])\n"
          ]
        }
      ]
    },
    {
      "cell_type": "markdown",
      "source": [
        "## Slicing"
      ],
      "metadata": {
        "id": "FxTB0p6mWjhq"
      }
    },
    {
      "cell_type": "code",
      "source": [
        "tensorA = torch.tensor([[1,1,1],[2,2,2],[3,3,3]])\n",
        "print(tensorA[:2,:2])"
      ],
      "metadata": {
        "colab": {
          "base_uri": "https://localhost:8080/"
        },
        "id": "1yoIT5zyVlwO",
        "outputId": "3fc3d4f4-f8e4-4492-bdcb-0bc0aad951d6"
      },
      "execution_count": 4,
      "outputs": [
        {
          "output_type": "stream",
          "name": "stdout",
          "text": [
            "tensor([[1, 1],\n",
            "        [2, 2]])\n"
          ]
        }
      ]
    },
    {
      "cell_type": "markdown",
      "source": [
        "## Concatenate"
      ],
      "metadata": {
        "id": "OlTcsA5oW9GO"
      }
    },
    {
      "cell_type": "code",
      "source": [
        "tensorA = torch.tensor([[1,1,1],[2,2,2],[3,3,3]])\n",
        "tensorB = torch.tensor([[3,5,7],[9,8,7],[0,9,3]])\n",
        "\n",
        "concat_v = torch.cat([tensorA,tensorB])\n",
        "print(\"Concatenate Vertically \\n\",concat_v)\n",
        "\n",
        "concat_h = torch.cat([tensorA,tensorB],dim=1)\n",
        "print(\"Concatenate Horizontally \\n\",concat_h)"
      ],
      "metadata": {
        "colab": {
          "base_uri": "https://localhost:8080/"
        },
        "id": "_6LsL4B3WXoX",
        "outputId": "60889e18-972b-4309-8c14-aa6a88f6c56e"
      },
      "execution_count": 5,
      "outputs": [
        {
          "output_type": "stream",
          "name": "stdout",
          "text": [
            "Concatenate Vertically \n",
            " tensor([[1, 1, 1],\n",
            "        [2, 2, 2],\n",
            "        [3, 3, 3],\n",
            "        [3, 5, 7],\n",
            "        [9, 8, 7],\n",
            "        [0, 9, 3]])\n",
            "Concatenate Horizontally \n",
            " tensor([[1, 1, 1, 3, 5, 7],\n",
            "        [2, 2, 2, 9, 8, 7],\n",
            "        [3, 3, 3, 0, 9, 3]])\n"
          ]
        }
      ]
    },
    {
      "cell_type": "code",
      "source": [],
      "metadata": {
        "id": "-7xdR7VyXZpt"
      },
      "execution_count": null,
      "outputs": []
    }
  ]
}